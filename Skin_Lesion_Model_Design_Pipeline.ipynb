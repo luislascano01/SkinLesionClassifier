{
 "cells": [
  {
   "cell_type": "code",
   "execution_count": null,
   "id": "initial_id",
   "metadata": {
    "collapsed": true
   },
   "outputs": [],
   "source": []
  },
  {
   "cell_type": "markdown",
   "source": [
    "# Skin Cancer Detector Model Design Pipeline"
   ],
   "metadata": {
    "collapsed": false
   },
   "id": "87d8818460547608"
  },
  {
   "cell_type": "markdown",
   "source": [
    "Using the Data Set HAM10000 available on Kaggle\n",
    "\n",
    "https://dataverse.harvard.edu/dataset.xhtml?persistentId=doi:10.7910/DVN/DBW86T\n",
    "\n",
    "[1] Noel Codella, Veronica Rotemberg, Philipp Tschandl, M. Emre Celebi, Stephen Dusza, David Gutman, Brian Helba, Aadi Kalloo, Konstantinos Liopyris, Michael Marchetti, Harald Kittler, Allan Halpern: “Skin Lesion Analysis Toward Melanoma Detection 2018: A Challenge Hosted by the International Skin Imaging Collaboration (ISIC)”, 2018; https://arxiv.org/abs/1902.03368\n",
    "[2] Tschandl, P., Rosendahl, C. & Kittler, H. The HAM10000 dataset, a large collection of multi-source dermatoscopic images of common pigmented skin lesions. Sci. Data 5, 180161 doi:10.1038/sdata.2018.161 (2018)."
   ],
   "metadata": {
    "collapsed": false
   },
   "id": "83d1536b304c5239"
  },
  {
   "cell_type": "markdown",
   "source": [
    "## 1. Data loading\n",
    "\n",
    "### 1.1 Load metadata as pandas dataframe\n"
   ],
   "metadata": {
    "collapsed": false
   },
   "id": "22c2d581dcd3456c"
  },
  {
   "cell_type": "code",
   "outputs": [
    {
     "data": {
      "text/plain": "           image_id     dx   age     sex localization\n0      ISIC_0027419    bkl  80.0    male        scalp\n1      ISIC_0025030    bkl  80.0    male        scalp\n2      ISIC_0026769    bkl  80.0    male        scalp\n3      ISIC_0025661    bkl  80.0    male        scalp\n4      ISIC_0031633    bkl  75.0    male          ear\n...             ...    ...   ...     ...          ...\n10010  ISIC_0033084  akiec  40.0    male      abdomen\n10011  ISIC_0033550  akiec  40.0    male      abdomen\n10012  ISIC_0033536  akiec  40.0    male      abdomen\n10013  ISIC_0032854  akiec  80.0    male         face\n10014  ISIC_0032258    mel  70.0  female         back\n\n[10015 rows x 5 columns]",
      "text/html": "<div>\n<style scoped>\n    .dataframe tbody tr th:only-of-type {\n        vertical-align: middle;\n    }\n\n    .dataframe tbody tr th {\n        vertical-align: top;\n    }\n\n    .dataframe thead th {\n        text-align: right;\n    }\n</style>\n<table border=\"1\" class=\"dataframe\">\n  <thead>\n    <tr style=\"text-align: right;\">\n      <th></th>\n      <th>image_id</th>\n      <th>dx</th>\n      <th>age</th>\n      <th>sex</th>\n      <th>localization</th>\n    </tr>\n  </thead>\n  <tbody>\n    <tr>\n      <th>0</th>\n      <td>ISIC_0027419</td>\n      <td>bkl</td>\n      <td>80.0</td>\n      <td>male</td>\n      <td>scalp</td>\n    </tr>\n    <tr>\n      <th>1</th>\n      <td>ISIC_0025030</td>\n      <td>bkl</td>\n      <td>80.0</td>\n      <td>male</td>\n      <td>scalp</td>\n    </tr>\n    <tr>\n      <th>2</th>\n      <td>ISIC_0026769</td>\n      <td>bkl</td>\n      <td>80.0</td>\n      <td>male</td>\n      <td>scalp</td>\n    </tr>\n    <tr>\n      <th>3</th>\n      <td>ISIC_0025661</td>\n      <td>bkl</td>\n      <td>80.0</td>\n      <td>male</td>\n      <td>scalp</td>\n    </tr>\n    <tr>\n      <th>4</th>\n      <td>ISIC_0031633</td>\n      <td>bkl</td>\n      <td>75.0</td>\n      <td>male</td>\n      <td>ear</td>\n    </tr>\n    <tr>\n      <th>...</th>\n      <td>...</td>\n      <td>...</td>\n      <td>...</td>\n      <td>...</td>\n      <td>...</td>\n    </tr>\n    <tr>\n      <th>10010</th>\n      <td>ISIC_0033084</td>\n      <td>akiec</td>\n      <td>40.0</td>\n      <td>male</td>\n      <td>abdomen</td>\n    </tr>\n    <tr>\n      <th>10011</th>\n      <td>ISIC_0033550</td>\n      <td>akiec</td>\n      <td>40.0</td>\n      <td>male</td>\n      <td>abdomen</td>\n    </tr>\n    <tr>\n      <th>10012</th>\n      <td>ISIC_0033536</td>\n      <td>akiec</td>\n      <td>40.0</td>\n      <td>male</td>\n      <td>abdomen</td>\n    </tr>\n    <tr>\n      <th>10013</th>\n      <td>ISIC_0032854</td>\n      <td>akiec</td>\n      <td>80.0</td>\n      <td>male</td>\n      <td>face</td>\n    </tr>\n    <tr>\n      <th>10014</th>\n      <td>ISIC_0032258</td>\n      <td>mel</td>\n      <td>70.0</td>\n      <td>female</td>\n      <td>back</td>\n    </tr>\n  </tbody>\n</table>\n<p>10015 rows × 5 columns</p>\n</div>"
     },
     "execution_count": 3,
     "metadata": {},
     "output_type": "execute_result"
    }
   ],
   "source": [
    "import pandas as pd\n",
    "\n",
    "metadata = pd.read_csv(\"skin_conditions_dataset/HAM10000_metadata.csv\")\n",
    "\n",
    "metadata.drop([\"lesion_id\", \"dx_type\"], axis=1, inplace=True)\n",
    "metadata"
   ],
   "metadata": {
    "collapsed": false,
    "ExecuteTime": {
     "end_time": "2024-03-12T04:06:27.095655Z",
     "start_time": "2024-03-12T04:06:26.992009Z"
    }
   },
   "id": "656df0482182dae5",
   "execution_count": 3
  },
  {
   "cell_type": "markdown",
   "source": [
    "### 1.2 Load images as pyTorch tensor "
   ],
   "metadata": {
    "collapsed": false
   },
   "id": "46e98321719b992e"
  },
  {
   "cell_type": "code",
   "outputs": [],
   "source": [],
   "metadata": {
    "collapsed": false,
    "ExecuteTime": {
     "end_time": "2024-03-12T04:06:27.323116Z",
     "start_time": "2024-03-12T04:06:27.321483Z"
    }
   },
   "id": "b094a00e51f25a54",
   "execution_count": 3
  },
  {
   "cell_type": "code",
   "outputs": [],
   "source": [
    "from src.DataLoader import DataLoader\n",
    "\n",
    "loader = DataLoader(\"skin_conditions_dataset/HAM10000_images_part_1\", metadata, \"image_id\", \"dx\", augmentation=True)"
   ],
   "metadata": {
    "collapsed": false,
    "ExecuteTime": {
     "end_time": "2024-03-12T04:06:27.761311Z",
     "start_time": "2024-03-12T04:06:27.532452Z"
    }
   },
   "id": "dee484c8c91df88f",
   "execution_count": 4
  },
  {
   "cell_type": "markdown",
   "source": [],
   "metadata": {
    "collapsed": false
   },
   "id": "7542c363ff1b049f"
  },
  {
   "cell_type": "code",
   "outputs": [
    {
     "name": "stdout",
     "output_type": "stream",
     "text": [
      "torch.Size([100, 3, 450, 450])\n"
     ]
    }
   ],
   "source": [
    "from torchvision.transforms import ToPILImage\n",
    "\n",
    "loader.load_images(0.01)\n",
    "X_images = loader.get_X()\n",
    "print(X_images.shape)\n",
    "to_pil = ToPILImage()\n",
    "image = to_pil(X_images[0])\n",
    "\n",
    "# Now you can display or save the image\n",
    "image.show() "
   ],
   "metadata": {
    "collapsed": false,
    "ExecuteTime": {
     "end_time": "2024-03-12T04:06:29.558749Z",
     "start_time": "2024-03-12T04:06:28.158181Z"
    }
   },
   "id": "d33d73d1cc10bd66",
   "execution_count": 5
  },
  {
   "cell_type": "code",
   "outputs": [],
   "source": [],
   "metadata": {
    "collapsed": false
   },
   "id": "b6a025dfd9b367dc"
  },
  {
   "cell_type": "code",
   "outputs": [],
   "source": [],
   "metadata": {
    "collapsed": false
   },
   "id": "c76457b173fe20e"
  },
  {
   "cell_type": "markdown",
   "source": [],
   "metadata": {
    "collapsed": false
   },
   "id": "92f033ba3dcfcae1"
  }
 ],
 "metadata": {
  "kernelspec": {
   "display_name": "Python 3",
   "language": "python",
   "name": "python3"
  },
  "language_info": {
   "codemirror_mode": {
    "name": "ipython",
    "version": 2
   },
   "file_extension": ".py",
   "mimetype": "text/x-python",
   "name": "python",
   "nbconvert_exporter": "python",
   "pygments_lexer": "ipython2",
   "version": "2.7.6"
  }
 },
 "nbformat": 4,
 "nbformat_minor": 5
}
